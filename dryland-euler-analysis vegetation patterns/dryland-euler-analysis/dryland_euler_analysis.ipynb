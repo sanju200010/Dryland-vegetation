{
 "cells": [
  {
   "cell_type": "code",
   "execution_count": null,
   "id": "691859df",
   "metadata": {},
   "outputs": [],
   "source": [
    "# Block 1: Import libraries\n",
    "import cv2\n",
    "import numpy as np\n",
    "import matplotlib.pyplot as plt\n",
    "from skimage.measure import label, euler_number\n",
    "import os\n",
    "import time"
   ]
  },
  {
   "cell_type": "code",
   "execution_count": null,
   "id": "5efe4091",
   "metadata": {},
   "outputs": [],
   "source": [
    "# Block 2: Function to process vegetation image\n",
    "def process_vegetation_image(image_path, crop_size, output_size, scale_factor=0.17):\n",
    "    image = cv2.imread(image_path, cv2.IMREAD_GRAYSCALE)\n",
    "    if image is None:\n",
    "        raise ValueError(\"Image not found. Check the file path.\")\n",
    "    scaled_image = cv2.resize(image, None, fx=scale_factor, fy=scale_factor, interpolation=cv2.INTER_LINEAR)\n",
    "    h, w = scaled_image.shape\n",
    "    crop_w, crop_h = min(w, crop_size[0]), min(h, crop_size[1])\n",
    "    start_x = (w - crop_w) // 2\n",
    "    start_y = (h - crop_h) // 2\n",
    "    cropped_image = scaled_image[start_y:start_y + crop_h, start_x:start_x + crop_w]\n",
    "    final_image = cv2.resize(cropped_image, output_size, interpolation=cv2.INTER_LINEAR)\n",
    "    return final_image"
   ]
  },
  {
   "cell_type": "code",
   "execution_count": null,
   "id": "54625fe2",
   "metadata": {},
   "outputs": [],
   "source": [
    "# Block 3: Function to compute Euler characteristic\n",
    "def compute_euler_characteristic(binary_image):\n",
    "    labeled_img = label(binary_image, connectivity=2)\n",
    "    return euler_number(labeled_img)"
   ]
  },
  {
   "cell_type": "code",
   "execution_count": null,
   "id": "cdcbd968",
   "metadata": {},
   "outputs": [],
   "source": [
    "# Block 4: Function to compute Euler curve for an image\n",
    "def compute_euler_curve(processed_image):\n",
    "    euler_values = []\n",
    "    for threshold in range(256):\n",
    "        _, binary = cv2.threshold(processed_image, threshold, 255, cv2.THRESH_BINARY)\n",
    "        euler_values.append(compute_euler_characteristic(binary))\n",
    "    return euler_values"
   ]
  },
  {
   "cell_type": "code",
   "execution_count": null,
   "id": "064aa348",
   "metadata": {},
   "outputs": [],
   "source": [
    "# Block 5: Function to plot and save the Euler characteristic curve\n",
    "def save_euler_plot(euler_values, image_name, output_folder):\n",
    "    timestamp = time.strftime(\"%Y%m%d-%H%M%S\")\n",
    "    os.makedirs(output_folder, exist_ok=True)\n",
    "    graph_path = os.path.join(output_folder, f\"euler_curve_{image_name}_{timestamp}.png\")\n",
    "    plt.figure(figsize=(8, 5))\n",
    "    plt.plot(range(256), euler_values, marker='o', linestyle='-', color='b')\n",
    "    plt.title(f\"Euler Characteristic Curve: {image_name}\")\n",
    "    plt.xlabel(\"Threshold\")\n",
    "    plt.ylabel(\"Euler Characteristic\")\n",
    "    plt.grid(True)\n",
    "    plt.savefig(graph_path, dpi=300)\n",
    "    plt.show()\n",
    "    print(f\"✅ Saved graph to: {graph_path}\")"
   ]
  },
  {
   "cell_type": "code",
   "execution_count": null,
   "id": "b91a2c0f",
   "metadata": {},
   "outputs": [],
   "source": [
    "# Block 6: Process all images in the 'images' folder\n",
    "def analyze_all_images(input_folder, crop_size, output_size, output_folder):\n",
    "    for file in os.listdir(input_folder):\n",
    "        if file.lower().endswith(('.png', '.jpg', '.jpeg', '.bmp', '.tif')):\n",
    "            image_path = os.path.join(input_folder, file)\n",
    "            print(f\"Processing {image_path}...\")\n",
    "            try:\n",
    "                processed = process_vegetation_image(image_path, crop_size, output_size)\n",
    "                euler_values = compute_euler_curve(processed)\n",
    "                save_euler_plot(euler_values, os.path.splitext(file)[0], output_folder)\n",
    "            except Exception as e:\n",
    "                print(f\"❌ Failed to process {file}: {e}\")"
   ]
  },
  {
   "cell_type": "code",
   "execution_count": null,
   "id": "0f15e5c5",
   "metadata": {},
   "outputs": [],
   "source": [
    "# Block 7: Run the analysis\n",
    "input_folder = \"./images\"\n",
    "output_folder = \"./output\"\n",
    "analyze_all_images(input_folder, crop_size=(50, 50), output_size=(50, 50), output_folder=output_folder)"
   ]
  }
 ],
 "metadata": {},
 "nbformat": 4,
 "nbformat_minor": 5
}
